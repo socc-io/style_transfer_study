{
 "cells": [
  {
   "cell_type": "code",
   "execution_count": 1,
   "metadata": {},
   "outputs": [],
   "source": [
    "import tensorflow as tf\n",
    "from tensorflow.keras.optimizers import Adam\n",
    "from tensorflow.keras.layers import Conv2D, concatenate, Flatten, Conv2DTranspose, Reshape, Dense\n",
    "from tensorflow.keras import Model\n",
    "import numpy as np\n",
    "from matplotlib import pyplot as plt"
   ]
  },
  {
   "cell_type": "code",
   "execution_count": 2,
   "metadata": {},
   "outputs": [
    {
     "data": {
      "text/plain": [
       "'2.0.0-rc1'"
      ]
     },
     "execution_count": 2,
     "metadata": {},
     "output_type": "execute_result"
    }
   ],
   "source": [
    "tf.__version__"
   ]
  },
  {
   "cell_type": "code",
   "execution_count": 3,
   "metadata": {},
   "outputs": [],
   "source": [
    "mnist = tf.keras.datasets.mnist"
   ]
  },
  {
   "cell_type": "code",
   "execution_count": 4,
   "metadata": {},
   "outputs": [],
   "source": [
    "(x_train, y_train), (x_test, y_test) = mnist.load_data()\n",
    "\n",
    "def normalize(img):  # -1 ~ 1\n",
    "    return (img - 127.5) / 127.5\n",
    "\n",
    "def denormalize(img):\n",
    "    return (img * 127.5 + 127.5)"
   ]
  },
  {
   "cell_type": "code",
   "execution_count": 5,
   "metadata": {},
   "outputs": [],
   "source": [
    "# do data process in dataset map function\n",
    "x_train = normalize(x_train[..., tf.newaxis])\n",
    "x_test = normalize(x_test[..., tf.newaxis])\n",
    "\n",
    "batch_size = 32\n",
    "epochs = 10\n",
    "\n",
    "y_train = tf.one_hot(y_train, depth=10)\n",
    "y_test = tf.one_hot(y_test, depth=10)\n",
    "\n",
    "x_train = (x_train, y_train)\n",
    "x_test = (x_test, y_test)"
   ]
  },
  {
   "cell_type": "code",
   "execution_count": 6,
   "metadata": {},
   "outputs": [],
   "source": [
    "features, labels = (np.random.sample((100, 2)), np.random.sample((100, 1)))"
   ]
  },
  {
   "cell_type": "code",
   "execution_count": null,
   "metadata": {},
   "outputs": [],
   "source": []
  },
  {
   "cell_type": "code",
   "execution_count": 7,
   "metadata": {},
   "outputs": [],
   "source": [
    "# TODO: optimize this dataset (map function)\n",
    "train_dataset = tf.data.Dataset.from_tensor_slices(x_train).shuffle(10000).padded_batch(batch_size, remain)\n",
    "test_dataset = tf.data.Dataset.from_tensor_slices(x_test).shuffle(10000).padded_batch(batch_size)"
   ]
  },
  {
   "cell_type": "code",
   "execution_count": 8,
   "metadata": {},
   "outputs": [],
   "source": [
    "class Discriminator(tf.keras.Model):\n",
    "    def __init__(self):\n",
    "        super(Discriminator, self).__init__()\n",
    "        self.conv_1 = Conv2D(64, kernel_size=(4, 4), strides=2, padding='same', activation='relu')\n",
    "        self.conv_2 = Conv2D(128, kernel_size=(4, 4), strides=2, padding='same', activation='relu')\n",
    "        self.flatten = Flatten()\n",
    "        self.dense_1 = Dense(1, activation='sigmoid')\n",
    "        \n",
    "    def call(self, img, condition):\n",
    "        img = self.conv_1(img)\n",
    "        img = self.conv_2(img)\n",
    "        feature_vector = self.flatten(img)\n",
    "        concated_layer = concatenate([feature_vector, condition])\n",
    "        logit = self.dense_1(concated_layer)\n",
    "        return logit\n",
    "    \n",
    "discriminator = Discriminator()"
   ]
  },
  {
   "cell_type": "code",
   "execution_count": 9,
   "metadata": {},
   "outputs": [],
   "source": [
    "class Generator(tf.keras.Model):\n",
    "    def __init__(self):\n",
    "        super(Generator, self).__init__()\n",
    "        self.dense_1 = Dense(7 * 7 * 128, activation='relu')\n",
    "        self.reshape = Reshape((7, 7, 128))\n",
    "        self.deconv_1 = Conv2DTranspose(128, kernel_size=(4, 4), strides=2, padding='same', activation='relu')\n",
    "        self.deconv_2 = Conv2DTranspose(64, kernel_size=(4, 4), strides=2, padding='same', activation='relu')\n",
    "        self.deconv_3 = Conv2DTranspose(1, kernel_size=(1, 1), strides=1, padding='valid', activation='tanh')\n",
    "        \n",
    "    def call(self, latent, condition):\n",
    "        conditioned_latent = concatenate([latent, condition])\n",
    "        x = self.dense_1(conditioned_latent)\n",
    "        x = self.reshape(x)\n",
    "        x = self.deconv_1(x)\n",
    "        x = self.deconv_2(x)\n",
    "        x = self.deconv_3(x)\n",
    "        return x\n",
    "generator = Generator()"
   ]
  },
  {
   "cell_type": "code",
   "execution_count": 16,
   "metadata": {},
   "outputs": [],
   "source": [
    "cross_entrophy = tf.keras.losses.BinaryCrossentropy(from_logits=True)\n",
    "discriminator_optimizer = tf.keras.optimizers.Adam(1e-4)\n",
    "generator_optimizer = tf.keras.optimizers.Adam(1e-4)"
   ]
  },
  {
   "cell_type": "code",
   "execution_count": 11,
   "metadata": {},
   "outputs": [],
   "source": [
    "latent = tf.random.normal([32, 100])\n",
    "condition = y_train[:32]"
   ]
  },
  {
   "cell_type": "code",
   "execution_count": 12,
   "metadata": {},
   "outputs": [
    {
     "data": {
      "text/plain": [
       "TensorShape([32, 10])"
      ]
     },
     "execution_count": 12,
     "metadata": {},
     "output_type": "execute_result"
    }
   ],
   "source": [
    "latent.shape\n",
    "condition.shape"
   ]
  },
  {
   "cell_type": "code",
   "execution_count": 13,
   "metadata": {},
   "outputs": [
    {
     "data": {
      "text/plain": [
       "<matplotlib.image.AxesImage at 0xb52920a90>"
      ]
     },
     "execution_count": 13,
     "metadata": {},
     "output_type": "execute_result"
    },
    {
     "data": {
      "image/png": "[encoded data removed]",
      "text/plain": [
       "<Figure size 432x288 with 1 Axes>"
      ]
     },
     "metadata": {
      "needs_background": "light"
     },
     "output_type": "display_data"
    }
   ],
   "source": [
    "fake_img = generator(latent, condition)\n",
    "fake_img[0].shape\n",
    "plt.imshow(fake_img[0, :, :, 0], cmap='gray')"
   ]
  },
  {
   "cell_type": "code",
   "execution_count": 14,
   "metadata": {},
   "outputs": [],
   "source": [
    "def get_disc_loss(fake_output, real_output):\n",
    "    real = cross_entrophy(tf.ones_like(real_output), real_output)\n",
    "    fake = cross_entrophy(tf.zeros_like(fake_output), fake_output)\n",
    "    return real + fake\n",
    "\n",
    "def get_gen_loss(fake_output):\n",
    "    return cross_entrophy(tf.ones_like(fake_output), fake_output)"
   ]
  },
  {
   "cell_type": "code",
   "execution_count": 18,
   "metadata": {},
   "outputs": [
    {
     "name": "stdout",
     "output_type": "stream",
     "text": [
      "g_loss : 0.46979817748069763 d_loss : 1.3146380186080933\n",
      "g_loss : 0.47053956985473633 d_loss : 1.3128207921981812\n",
      "g_loss : 0.4711715579032898 d_loss : 1.3102281093597412\n",
      "g_loss : 0.4715721011161804 d_loss : 1.3079032897949219\n",
      "g_loss : 0.4727080166339874 d_loss : 1.3044523000717163\n",
      "g_loss : 0.47283148765563965 d_loss : 1.3039311170578003\n",
      "g_loss : 0.4734465777873993 d_loss : 1.3015103340148926\n",
      "g_loss : 0.47297531366348267 d_loss : 1.3034213781356812\n",
      "g_loss : 0.47388654947280884 d_loss : 1.2999005317687988\n",
      "g_loss : 0.4735923409461975 d_loss : 1.3009793758392334\n",
      "g_loss : 0.47344884276390076 d_loss : 1.3010070323944092\n",
      "g_loss : 0.47318437695503235 d_loss : 1.3013968467712402\n",
      "g_loss : 0.4732598662376404 d_loss : 1.3007535934448242\n",
      "g_loss : 0.473976194858551 d_loss : 1.300360918045044\n",
      "g_loss : 0.47339510917663574 d_loss : 1.3003640174865723\n",
      "g_loss : 0.4738727807998657 d_loss : 1.3006277084350586\n",
      "g_loss : 0.4745772182941437 d_loss : 1.2988840341567993\n",
      "g_loss : 0.4744669795036316 d_loss : 1.2997376918792725\n",
      "g_loss : 0.47474056482315063 d_loss : 1.2993651628494263\n",
      "g_loss : 0.47337329387664795 d_loss : 1.3030285835266113\n",
      "g_loss : 0.4726408123970032 d_loss : 1.3057578802108765\n",
      "g_loss : 0.47109925746917725 d_loss : 1.3094325065612793\n",
      "g_loss : 0.47069087624549866 d_loss : 1.3118430376052856\n",
      "g_loss : 0.4717324674129486 d_loss : 1.3121790885925293\n",
      "g_loss : 0.4727625250816345 d_loss : 1.314514398574829\n",
      "g_loss : 0.4753803014755249 d_loss : 1.314026117324829\n",
      "g_loss : 0.4787735939025879 d_loss : 1.3115909099578857\n",
      "g_loss : 0.4822259843349457 d_loss : 1.31231689453125\n",
      "g_loss : 0.48728471994400024 d_loss : 1.3098182678222656\n",
      "g_loss : 0.49245816469192505 d_loss : 1.3095054626464844\n",
      "g_loss : 0.49770402908325195 d_loss : 1.309831142425537\n",
      "g_loss : 0.5045566558837891 d_loss : 1.3076025247573853\n",
      "g_loss : 0.5100772976875305 d_loss : 1.3103840351104736\n",
      "g_loss : 0.5163541436195374 d_loss : 1.3108845949172974\n",
      "g_loss : 0.5216250419616699 d_loss : 1.3154821395874023\n",
      "g_loss : 0.5255076885223389 d_loss : 1.3185739517211914\n",
      "g_loss : 0.5294604897499084 d_loss : 1.3191864490509033\n",
      "g_loss : 0.5330193042755127 d_loss : 1.32597017288208\n",
      "g_loss : 0.5341289043426514 d_loss : 1.3267426490783691\n",
      "g_loss : 0.534888744354248 d_loss : 1.3298200368881226\n",
      "g_loss : 0.5328720808029175 d_loss : 1.3321418762207031\n",
      "g_loss : 0.5314822196960449 d_loss : 1.3391282558441162\n",
      "g_loss : 0.5285065770149231 d_loss : 1.3458999395370483\n",
      "g_loss : 0.5274460315704346 d_loss : 1.3411543369293213\n",
      "g_loss : 0.5241939425468445 d_loss : 1.344315767288208\n",
      "g_loss : 0.5226409435272217 d_loss : 1.3534804582595825\n",
      "g_loss : 0.5217583775520325 d_loss : 1.3444825410842896\n",
      "g_loss : 0.5201026201248169 d_loss : 1.3490040302276611\n",
      "g_loss : 0.5201512575149536 d_loss : 1.355710506439209\n",
      "g_loss : 0.5207337737083435 d_loss : 1.3518109321594238\n",
      "g_loss : 0.5196653604507446 d_loss : 1.3433855772018433\n",
      "g_loss : 0.5221258401870728 d_loss : 1.3427455425262451\n",
      "g_loss : 0.5228021740913391 d_loss : 1.3379658460617065\n",
      "g_loss : 0.5227248072624207 d_loss : 1.3345950841903687\n",
      "g_loss : 0.5236191749572754 d_loss : 1.3263686895370483\n",
      "g_loss : 0.5266683101654053 d_loss : 1.3312000036239624\n",
      "g_loss : 0.5292466282844543 d_loss : 1.3148221969604492\n",
      "g_loss : 0.5293558835983276 d_loss : 1.3156991004943848\n",
      "g_loss : 0.5316653847694397 d_loss : 1.2997050285339355\n",
      "g_loss : 0.5325538516044617 d_loss : 1.2907540798187256\n",
      "g_loss : 0.5338284969329834 d_loss : 1.2769360542297363\n",
      "g_loss : 0.5336836576461792 d_loss : 1.286447286605835\n",
      "g_loss : 0.5305331349372864 d_loss : 1.2866841554641724\n"
     ]
    },
    {
     "ename": "KeyboardInterrupt",
     "evalue": "",
     "output_type": "error",
     "traceback": [
      "\u001b[0;31m---------------------------------------------------------------------------\u001b[0m",
      "\u001b[0;31mKeyboardInterrupt\u001b[0m                         Traceback (most recent call last)",
      "\u001b[0;32m<ipython-input-18-505003302d16>\u001b[0m in \u001b[0;36m<module>\u001b[0;34m\u001b[0m\n\u001b[1;32m      8\u001b[0m         \u001b[0mfake_output\u001b[0m \u001b[0;34m=\u001b[0m \u001b[0mdiscriminator\u001b[0m\u001b[0;34m(\u001b[0m\u001b[0mfake_img\u001b[0m\u001b[0;34m,\u001b[0m \u001b[0mlabel\u001b[0m\u001b[0;34m)\u001b[0m\u001b[0;34m\u001b[0m\u001b[0;34m\u001b[0m\u001b[0m\n\u001b[1;32m      9\u001b[0m         \u001b[0md_loss\u001b[0m \u001b[0;34m=\u001b[0m \u001b[0mget_disc_loss\u001b[0m\u001b[0;34m(\u001b[0m\u001b[0mfake_output\u001b[0m\u001b[0;34m,\u001b[0m \u001b[0mreal_output\u001b[0m\u001b[0;34m)\u001b[0m\u001b[0;34m\u001b[0m\u001b[0;34m\u001b[0m\u001b[0m\n\u001b[0;32m---> 10\u001b[0;31m         \u001b[0mg_loss\u001b[0m \u001b[0;34m=\u001b[0m \u001b[0mget_gen_loss\u001b[0m\u001b[0;34m(\u001b[0m\u001b[0mfake_output\u001b[0m\u001b[0;34m)\u001b[0m\u001b[0;34m\u001b[0m\u001b[0;34m\u001b[0m\u001b[0m\n\u001b[0m\u001b[1;32m     11\u001b[0m \u001b[0;34m\u001b[0m\u001b[0m\n\u001b[1;32m     12\u001b[0m         \u001b[0mg_gradients\u001b[0m \u001b[0;34m=\u001b[0m \u001b[0mg_tape\u001b[0m\u001b[0;34m.\u001b[0m\u001b[0mgradient\u001b[0m\u001b[0;34m(\u001b[0m\u001b[0mg_loss\u001b[0m\u001b[0;34m,\u001b[0m \u001b[0mgenerator\u001b[0m\u001b[0;34m.\u001b[0m\u001b[0mtrainable_variables\u001b[0m\u001b[0;34m)\u001b[0m\u001b[0;34m\u001b[0m\u001b[0;34m\u001b[0m\u001b[0m\n",
      "\u001b[0;32m<ipython-input-14-f90a9e69e5de>\u001b[0m in \u001b[0;36mget_gen_loss\u001b[0;34m(fake_output)\u001b[0m\n\u001b[1;32m      5\u001b[0m \u001b[0;34m\u001b[0m\u001b[0m\n\u001b[1;32m      6\u001b[0m \u001b[0;32mdef\u001b[0m \u001b[0mget_gen_loss\u001b[0m\u001b[0;34m(\u001b[0m\u001b[0mfake_output\u001b[0m\u001b[0;34m)\u001b[0m\u001b[0;34m:\u001b[0m\u001b[0;34m\u001b[0m\u001b[0;34m\u001b[0m\u001b[0m\n\u001b[0;32m----> 7\u001b[0;31m     \u001b[0;32mreturn\u001b[0m \u001b[0mcross_entrophy\u001b[0m\u001b[0;34m(\u001b[0m\u001b[0mtf\u001b[0m\u001b[0;34m.\u001b[0m\u001b[0mones_like\u001b[0m\u001b[0;34m(\u001b[0m\u001b[0mfake_output\u001b[0m\u001b[0;34m)\u001b[0m\u001b[0;34m,\u001b[0m \u001b[0mfake_output\u001b[0m\u001b[0;34m)\u001b[0m\u001b[0;34m\u001b[0m\u001b[0;34m\u001b[0m\u001b[0m\n\u001b[0m",
      "\u001b[0;32m~/anaconda3/lib/python3.6/site-packages/tensorflow_core/python/keras/losses.py\u001b[0m in \u001b[0;36m__call__\u001b[0;34m(self, y_true, y_pred, sample_weight)\u001b[0m\n\u001b[1;32m    126\u001b[0m       \u001b[0mlosses\u001b[0m \u001b[0;34m=\u001b[0m \u001b[0mself\u001b[0m\u001b[0;34m.\u001b[0m\u001b[0mcall\u001b[0m\u001b[0;34m(\u001b[0m\u001b[0my_true\u001b[0m\u001b[0;34m,\u001b[0m \u001b[0my_pred\u001b[0m\u001b[0;34m)\u001b[0m\u001b[0;34m\u001b[0m\u001b[0;34m\u001b[0m\u001b[0m\n\u001b[1;32m    127\u001b[0m       return losses_utils.compute_weighted_loss(\n\u001b[0;32m--> 128\u001b[0;31m           losses, sample_weight, reduction=self._get_reduction())\n\u001b[0m\u001b[1;32m    129\u001b[0m \u001b[0;34m\u001b[0m\u001b[0m\n\u001b[1;32m    130\u001b[0m   \u001b[0;34m@\u001b[0m\u001b[0mclassmethod\u001b[0m\u001b[0;34m\u001b[0m\u001b[0;34m\u001b[0m\u001b[0m\n",
      "\u001b[0;32m~/anaconda3/lib/python3.6/site-packages/tensorflow_core/python/keras/utils/losses_utils.py\u001b[0m in \u001b[0;36mcompute_weighted_loss\u001b[0;34m(losses, sample_weight, reduction, name)\u001b[0m\n\u001b[1;32m    105\u001b[0m     \u001b[0minput_dtype\u001b[0m \u001b[0;34m=\u001b[0m \u001b[0mlosses\u001b[0m\u001b[0;34m.\u001b[0m\u001b[0mdtype\u001b[0m\u001b[0;34m\u001b[0m\u001b[0;34m\u001b[0m\u001b[0m\n\u001b[1;32m    106\u001b[0m     weighted_losses = tf_losses_utils.scale_losses_by_sample_weight(\n\u001b[0;32m--> 107\u001b[0;31m         losses, sample_weight)\n\u001b[0m\u001b[1;32m    108\u001b[0m     \u001b[0;31m# Apply reduction function to the individual weighted losses.\u001b[0m\u001b[0;34m\u001b[0m\u001b[0;34m\u001b[0m\u001b[0;34m\u001b[0m\u001b[0m\n\u001b[1;32m    109\u001b[0m     \u001b[0mloss\u001b[0m \u001b[0;34m=\u001b[0m \u001b[0mreduce_weighted_loss\u001b[0m\u001b[0;34m(\u001b[0m\u001b[0mweighted_losses\u001b[0m\u001b[0;34m,\u001b[0m \u001b[0mreduction\u001b[0m\u001b[0;34m)\u001b[0m\u001b[0;34m\u001b[0m\u001b[0;34m\u001b[0m\u001b[0m\n",
      "\u001b[0;32m~/anaconda3/lib/python3.6/site-packages/tensorflow_core/python/ops/losses/util.py\u001b[0m in \u001b[0;36mscale_losses_by_sample_weight\u001b[0;34m(losses, sample_weight)\u001b[0m\n\u001b[1;32m    146\u001b[0m \u001b[0;34m\u001b[0m\u001b[0m\n\u001b[1;32m    147\u001b[0m   \u001b[0;31m# Broadcast weights if possible.\u001b[0m\u001b[0;34m\u001b[0m\u001b[0;34m\u001b[0m\u001b[0;34m\u001b[0m\u001b[0m\n\u001b[0;32m--> 148\u001b[0;31m   \u001b[0msample_weight\u001b[0m \u001b[0;34m=\u001b[0m \u001b[0mweights_broadcast_ops\u001b[0m\u001b[0;34m.\u001b[0m\u001b[0mbroadcast_weights\u001b[0m\u001b[0;34m(\u001b[0m\u001b[0msample_weight\u001b[0m\u001b[0;34m,\u001b[0m \u001b[0mlosses\u001b[0m\u001b[0;34m)\u001b[0m\u001b[0;34m\u001b[0m\u001b[0;34m\u001b[0m\u001b[0m\n\u001b[0m\u001b[1;32m    149\u001b[0m   \u001b[0;32mreturn\u001b[0m \u001b[0mmath_ops\u001b[0m\u001b[0;34m.\u001b[0m\u001b[0mmultiply\u001b[0m\u001b[0;34m(\u001b[0m\u001b[0mlosses\u001b[0m\u001b[0;34m,\u001b[0m \u001b[0msample_weight\u001b[0m\u001b[0;34m)\u001b[0m\u001b[0;34m\u001b[0m\u001b[0;34m\u001b[0m\u001b[0m\n\u001b[1;32m    150\u001b[0m \u001b[0;34m\u001b[0m\u001b[0m\n",
      "\u001b[0;32m~/anaconda3/lib/python3.6/site-packages/tensorflow_core/python/ops/weights_broadcast_ops.py\u001b[0m in \u001b[0;36mbroadcast_weights\u001b[0;34m(weights, values)\u001b[0m\n\u001b[1;32m    167\u001b[0m     \u001b[0;32mwith\u001b[0m \u001b[0mops\u001b[0m\u001b[0;34m.\u001b[0m\u001b[0mcontrol_dependencies\u001b[0m\u001b[0;34m(\u001b[0m\u001b[0;34m(\u001b[0m\u001b[0massert_broadcastable\u001b[0m\u001b[0;34m(\u001b[0m\u001b[0mweights\u001b[0m\u001b[0;34m,\u001b[0m \u001b[0mvalues\u001b[0m\u001b[0;34m)\u001b[0m\u001b[0;34m,\u001b[0m\u001b[0;34m)\u001b[0m\u001b[0;34m)\u001b[0m\u001b[0;34m:\u001b[0m\u001b[0;34m\u001b[0m\u001b[0;34m\u001b[0m\u001b[0m\n\u001b[1;32m    168\u001b[0m       return math_ops.multiply(\n\u001b[0;32m--> 169\u001b[0;31m           weights, array_ops.ones_like(values), name=scope)\n\u001b[0m",
      "\u001b[0;32m~/anaconda3/lib/python3.6/site-packages/tensorflow_core/python/util/dispatch.py\u001b[0m in \u001b[0;36mwrapper\u001b[0;34m(*args, **kwargs)\u001b[0m\n\u001b[1;32m    178\u001b[0m     \u001b[0;34m\"\"\"Call target, and fall back on dispatchers if there is a TypeError.\"\"\"\u001b[0m\u001b[0;34m\u001b[0m\u001b[0;34m\u001b[0m\u001b[0m\n\u001b[1;32m    179\u001b[0m     \u001b[0;32mtry\u001b[0m\u001b[0;34m:\u001b[0m\u001b[0;34m\u001b[0m\u001b[0;34m\u001b[0m\u001b[0m\n\u001b[0;32m--> 180\u001b[0;31m       \u001b[0;32mreturn\u001b[0m \u001b[0mtarget\u001b[0m\u001b[0;34m(\u001b[0m\u001b[0;34m*\u001b[0m\u001b[0margs\u001b[0m\u001b[0;34m,\u001b[0m \u001b[0;34m**\u001b[0m\u001b[0mkwargs\u001b[0m\u001b[0;34m)\u001b[0m\u001b[0;34m\u001b[0m\u001b[0;34m\u001b[0m\u001b[0m\n\u001b[0m\u001b[1;32m    181\u001b[0m     \u001b[0;32mexcept\u001b[0m \u001b[0;34m(\u001b[0m\u001b[0mTypeError\u001b[0m\u001b[0;34m,\u001b[0m \u001b[0mValueError\u001b[0m\u001b[0;34m)\u001b[0m\u001b[0;34m:\u001b[0m\u001b[0;34m\u001b[0m\u001b[0;34m\u001b[0m\u001b[0m\n\u001b[1;32m    182\u001b[0m       \u001b[0;31m# Note: convert_to_eager_tensor currently raises a ValueError, not a\u001b[0m\u001b[0;34m\u001b[0m\u001b[0;34m\u001b[0m\u001b[0;34m\u001b[0m\u001b[0m\n",
      "\u001b[0;32m~/anaconda3/lib/python3.6/site-packages/tensorflow_core/python/ops/array_ops.py\u001b[0m in \u001b[0;36mones_like\u001b[0;34m(tensor, dtype, name, optimize)\u001b[0m\n\u001b[1;32m   2492\u001b[0m     \u001b[0mA\u001b[0m\u001b[0;31m \u001b[0m\u001b[0;31m`\u001b[0m\u001b[0mTensor\u001b[0m\u001b[0;31m`\u001b[0m \u001b[0;32mwith\u001b[0m \u001b[0mall\u001b[0m \u001b[0melements\u001b[0m \u001b[0mset\u001b[0m \u001b[0mto\u001b[0m \u001b[0;36m1.\u001b[0m\u001b[0;34m\u001b[0m\u001b[0;34m\u001b[0m\u001b[0m\n\u001b[1;32m   2493\u001b[0m   \"\"\"\n\u001b[0;32m-> 2494\u001b[0;31m   \u001b[0;32mreturn\u001b[0m \u001b[0mones_like_impl\u001b[0m\u001b[0;34m(\u001b[0m\u001b[0mtensor\u001b[0m\u001b[0;34m,\u001b[0m \u001b[0mdtype\u001b[0m\u001b[0;34m,\u001b[0m \u001b[0mname\u001b[0m\u001b[0;34m,\u001b[0m \u001b[0moptimize\u001b[0m\u001b[0;34m)\u001b[0m\u001b[0;34m\u001b[0m\u001b[0;34m\u001b[0m\u001b[0m\n\u001b[0m\u001b[1;32m   2495\u001b[0m \u001b[0;34m\u001b[0m\u001b[0m\n\u001b[1;32m   2496\u001b[0m \u001b[0;34m\u001b[0m\u001b[0m\n",
      "\u001b[0;31mKeyboardInterrupt\u001b[0m: "
     ]
    }
   ],
   "source": [
    "for epoch in range(epochs):\n",
    "    for data in train_dataset:\n",
    "        with tf.GradientTape() as d_tape, tf.GradientTape() as g_tape:\n",
    "            real_img, label = data\n",
    "            latent = tf.random.normal([32, 100])\n",
    "            fake_img = generator(latent, label)\n",
    "\n",
    "            real_output = discriminator(real_img, label)\n",
    "            fake_output = discriminator(fake_img, label)\n",
    "            d_loss = get_disc_loss(fake_output, real_output)\n",
    "            g_loss = get_gen_loss(fake_output)\n",
    "\n",
    "            g_gradients = g_tape.gradient(g_loss, generator.trainable_variables)\n",
    "            d_gradients = d_tape.gradient(d_loss, discriminator.trainable_variables)\n",
    "\n",
    "            generator_optimizer.apply_gradients(zip(g_gradients, generator.trainable_variables))\n",
    "            discriminator_optimizer.apply_gradients(zip(d_gradients, discriminator.trainable_variables))\n",
    "\n",
    "            print(f\"g_loss : {g_loss} d_loss : {d_loss}\")"
   ]
  },
  {
   "cell_type": "code",
   "execution_count": null,
   "metadata": {},
   "outputs": [],
   "source": []
  }
 ],
 "metadata": {
  "kernelspec": {
   "display_name": "Python 3",
   "language": "python",
   "name": "python3"
  },
  "language_info": {
   "codemirror_mode": {
    "name": "ipython",
    "version": 3
   },
   "file_extension": ".py",
   "mimetype": "text/x-python",
   "name": "python",
   "nbconvert_exporter": "python",
   "pygments_lexer": "ipython3",
   "version": "3.6.7"
  }
 },
 "nbformat": 4,
 "nbformat_minor": 2
}
