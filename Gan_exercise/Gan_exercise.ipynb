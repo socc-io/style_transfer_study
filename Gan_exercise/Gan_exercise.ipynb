{
 "cells": [
  {
   "cell_type": "code",
   "execution_count": 1,
   "metadata": {},
   "outputs": [],
   "source": [
    "import tensorflow as tf\n",
    "from tensorflow.keras.layers import Input, Dense, Conv2D, Flatten, Reshape, Conv2DTranspose, Activation, BatchNormalization\n",
    "from tensorflow.keras import Model\n",
    "import matplotlib.pyplot as plt"
   ]
  },
  {
   "cell_type": "code",
   "execution_count": 2,
   "metadata": {},
   "outputs": [
    {
     "data": {
      "text/plain": [
       "'2.0.0-rc2'"
      ]
     },
     "execution_count": 2,
     "metadata": {},
     "output_type": "execute_result"
    }
   ],
   "source": [
    "tf.__version__"
   ]
  },
  {
   "cell_type": "markdown",
   "metadata": {},
   "source": [
    "# tensorflow 2 버전을 사용하여 간단한 MNIST gan model 을 작성해 봅니다."
   ]
  },
  {
   "cell_type": "code",
   "execution_count": 3,
   "metadata": {},
   "outputs": [],
   "source": [
    "mnist = tf.keras.datasets.mnist"
   ]
  },
  {
   "cell_type": "code",
   "execution_count": 4,
   "metadata": {},
   "outputs": [],
   "source": [
    "(x_train, y_train), (x_test, y_test) = mnist.load_data()"
   ]
  },
  {
   "cell_type": "code",
   "execution_count": 5,
   "metadata": {},
   "outputs": [],
   "source": [
    "x_train = x_train[..., tf.newaxis]\n",
    "x_test = x_test[..., tf.newaxis]"
   ]
  },
  {
   "cell_type": "code",
   "execution_count": 6,
   "metadata": {},
   "outputs": [],
   "source": [
    "def normalize(img):\n",
    "    return img / 127.5 - 1\n",
    "\n",
    "def denormalize(norm_img):\n",
    "    return (norm_img + 1) * 127.5"
   ]
  },
  {
   "cell_type": "code",
   "execution_count": 7,
   "metadata": {},
   "outputs": [],
   "source": [
    "train_dataset = tf.data.Dataset.from_tensor_slices((x_train, y_train)).shuffle(10000).batch(32)\n",
    "test_dataset = tf.data.Dataset.from_tensor_slices((x_test, y_test)).batch(32)"
   ]
  },
  {
   "cell_type": "code",
   "execution_count": 8,
   "metadata": {},
   "outputs": [],
   "source": [
    "x_train, y_train = normalize(x_train), normalize(y_train)"
   ]
  },
  {
   "cell_type": "code",
   "execution_count": 9,
   "metadata": {},
   "outputs": [],
   "source": [
    "class Discriminator(Model):\n",
    "    def __init__(self):\n",
    "        super(Discriminator, self).__init__()\n",
    "        \n",
    "    def call(self, x):\n",
    "        x = Conv2D(32, (3, 3))(x)\n",
    "        x = Activation(tf.nn.relu)(x)\n",
    "        x = Flatten()(x)\n",
    "        x = Dense(64)(x)\n",
    "        x = Activation(tf.nn.relu)(x)\n",
    "        x = Dense(1)(x)\n",
    "        return x"
   ]
  },
  {
   "cell_type": "code",
   "execution_count": 10,
   "metadata": {},
   "outputs": [],
   "source": [
    "discriminator = Discriminator()\n",
    "\n",
    "d_cross_entropy = tf.keras.losses.BinaryCrossentropy(from_logits=True)\n",
    "d_optimizer = tf.keras.optimizers.Adam()\n",
    "\n",
    "d_train_loss = tf.keras.metrics.Mean(name='train_d_accuracy')\n",
    "d_test_loss = tf.keras.metrics.Mean(name='test_d_accuracy')\n",
    "d_train_accuracy = tf.keras.metrics.SparseCategoricalAccuracy(name='train_d_accuracy')\n",
    "d_test_accuracy = tf.keras.metrics.SparseCategoricalAccuracy(name='test_d_accuracy')"
   ]
  },
  {
   "cell_type": "code",
   "execution_count": 11,
   "metadata": {},
   "outputs": [],
   "source": [
    "class Generator(Model):\n",
    "    def __init__(self):\n",
    "        super(Generator, self).__init__()\n",
    "    \n",
    "    def call(self, latent):\n",
    "        x = Dense(7 * 7 * 128)(latent)\n",
    "        x = Reshape((7, 7, 128))(x)\n",
    "        x = Conv2DTranspose(128, (5, 5), strides=(1, 1), padding='same')(x)\n",
    "        x = Conv2DTranspose(64, (5, 5), strides=(2, 2), padding='same')(x)\n",
    "        assert x.shape == (1, 14, 14, 64)\n",
    "        x = Activation(tf.nn.relu)(x)\n",
    "        x = BatchNormalization()(x)\n",
    "        x = Conv2DTranspose(1, (5, 5), strides=(2,2), padding='same')(x)\n",
    "        assert x.shape == (1, 28, 28, 1)\n",
    "        x = Activation(tf.nn.tanh)(x)\n",
    "        return x\n",
    "    "
   ]
  },
  {
   "cell_type": "code",
   "execution_count": 12,
   "metadata": {},
   "outputs": [
    {
     "data": {
      "text/plain": [
       "<matplotlib.image.AxesImage at 0xb2d442940>"
      ]
     },
     "execution_count": 12,
     "metadata": {},
     "output_type": "execute_result"
    },
    {
     "data": {
      "image/png": "[encoded data removed]",
      "text/plain": [
       "<Figure size 432x288 with 1 Axes>"
      ]
     },
     "metadata": {
      "needs_background": "light"
     },
     "output_type": "display_data"
    }
   ],
   "source": [
    "generator = Generator()\n",
    "\n",
    "latent = tf.random.normal([1, 100])\n",
    "generated_img = generator(latent)\n",
    "plt.imshow(generated_img[0,:,:,0])"
   ]
  },
  {
   "cell_type": "code",
   "execution_count": 13,
   "metadata": {},
   "outputs": [],
   "source": [
    "class combined(Model):\n",
    "    def __init__(self, generator, discriminator):\n",
    "        super(combined, self).__init__()\n",
    "        self.generator = generator\n",
    "        self.discriminator = discriminator\n",
    "    \n",
    "    def call(self, latent):\n",
    "        generated_img = self.generator(latent)\n",
    "        logits = self.discriminator(generated_img)\n",
    "        return logits\n"
   ]
  },
  {
   "cell_type": "code",
   "execution_count": 14,
   "metadata": {},
   "outputs": [],
   "source": [
    "combined = combined(generator, discriminator)\n",
    "\n",
    "g_cross_entropy = tf.keras.losses.BinaryCrossentropy(from_logits=True)\n",
    "g_optimizer = tf.keras.optimizers.Adam()\n",
    "\n",
    "g_train_loss = tf.keras.metrics.Mean(name='train_g_accuracy')\n",
    "g_test_loss = tf.keras.metrics.Mean(name='test_g_accuracy')\n",
    "\n",
    "g_train_accuracy = tf.keras.metrics.SparseCategoricalAccuracy(name='train_g_accuracy')\n",
    "g_test_accuracy = tf.keras.metrics.SparseCategoricalAccuracy(name='test_g_accuracy')"
   ]
  },
  {
   "cell_type": "code",
   "execution_count": 15,
   "metadata": {},
   "outputs": [
    {
     "data": {
      "text/plain": [
       "<tf.Tensor: id=643, shape=(1, 1), dtype=float32, numpy=array([[-0.00721646]], dtype=float32)>"
      ]
     },
     "execution_count": 15,
     "metadata": {},
     "output_type": "execute_result"
    }
   ],
   "source": []
  },
  {
   "cell_type": "code",
   "execution_count": null,
   "metadata": {},
   "outputs": [],
   "source": []
  }
 ],
 "metadata": {
  "kernelspec": {
   "display_name": "Python 3",
   "language": "python",
   "name": "python3"
  },
  "language_info": {
   "codemirror_mode": {
    "name": "ipython",
    "version": 3
   },
   "file_extension": ".py",
   "mimetype": "text/x-python",
   "name": "python",
   "nbconvert_exporter": "python",
   "pygments_lexer": "ipython3",
   "version": "3.6.7"
  }
 },
 "nbformat": 4,
 "nbformat_minor": 2
}
