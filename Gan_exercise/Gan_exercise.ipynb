{
 "cells": [
  {
   "cell_type": "code",
   "execution_count": 82,
   "metadata": {},
   "outputs": [],
   "source": [
    "import tensorflow as tf\n",
    "from tensorflow.keras.layers import Input, Dense, Conv2D, Flatten, Reshape, Conv2DTranspose, Activation, BatchNormalization, LeakyReLU\n",
    "from tensorflow.keras import Model\n",
    "import matplotlib.pyplot as plt"
   ]
  },
  {
   "cell_type": "code",
   "execution_count": 83,
   "metadata": {},
   "outputs": [
    {
     "data": {
      "text/plain": [
       "'2.0.0-rc1'"
      ]
     },
     "execution_count": 83,
     "metadata": {},
     "output_type": "execute_result"
    }
   ],
   "source": [
    "tf.__version__"
   ]
  },
  {
   "cell_type": "markdown",
   "metadata": {},
   "source": [
    "# tensorflow 2 버전을 사용하여 간단한 MNIST gan model 을 작성해 봅니다."
   ]
  },
  {
   "cell_type": "code",
   "execution_count": 84,
   "metadata": {},
   "outputs": [],
   "source": [
    "mnist = tf.keras.datasets.mnist\n",
    "(x_train, y_train), (x_test, y_test) = mnist.load_data()\n",
    "x_train = x_train[..., tf.newaxis]\n",
    "x_test = x_test[..., tf.newaxis]"
   ]
  },
  {
   "cell_type": "code",
   "execution_count": 85,
   "metadata": {},
   "outputs": [],
   "source": [
    "def normalize(img):\n",
    "    return (img - 127.5) / 127.5\n",
    "\n",
    "def denormalize(norm_img):\n",
    "    return norm_img * 127.5 + 127.5"
   ]
  },
  {
   "cell_type": "code",
   "execution_count": 86,
   "metadata": {},
   "outputs": [],
   "source": [
    "x_train, y_train = normalize(x_train), normalize(y_train)\n",
    "BATCH_SIZE = 32\n",
    "train_dataset = tf.data.Dataset.from_tensor_slices(x_train).shuffle(10000).batch(BATCH_SIZE)\n",
    "test_dataset = tf.data.Dataset.from_tensor_slices(x_test).batch(BATCH_SIZE)"
   ]
  },
  {
   "cell_type": "code",
   "execution_count": 87,
   "metadata": {},
   "outputs": [],
   "source": [
    "class Discriminator(Model):\n",
    "    def __init__(self):\n",
    "        super(Discriminator, self).__init__()\n",
    "        self.conv_1 = Conv2D(512, (3, 3), activation='relu')\n",
    "        self.flatten = Flatten()\n",
    "        self.dense_1 = Dense(256)\n",
    "        self.logits = Dense(1)\n",
    "        \n",
    "    def call(self, x):\n",
    "        x = self.conv_1(x)\n",
    "        x = self.flatten(x)\n",
    "        x = self.dense_1(x)\n",
    "        x = LeakyReLU()(x)\n",
    "        x = self.logits(x)\n",
    "        return x\n",
    "    \n",
    "discriminator = Discriminator()"
   ]
  },
  {
   "cell_type": "code",
   "execution_count": 88,
   "metadata": {},
   "outputs": [],
   "source": [
    "cross_entropy = tf.keras.losses.BinaryCrossentropy(from_logits=True)\n",
    "discriminator_optimizer = tf.keras.optimizers.Adam(1e-4)"
   ]
  },
  {
   "cell_type": "code",
   "execution_count": 89,
   "metadata": {},
   "outputs": [],
   "source": [
    "class Generator(Model):\n",
    "    def __init__(self):\n",
    "        super(Generator, self).__init__()\n",
    "        self.dense_1 = Dense(7 * 7 * 1024)\n",
    "        self.reshape = Reshape((7, 7, 1024))\n",
    "        self.conv_1 = Conv2DTranspose(512, (3, 3), strides=(1, 1), padding='same')\n",
    "        self.conv_2 = Conv2DTranspose(256, (3, 3), strides=(2, 2), padding='same')\n",
    "        self.conv_3 = Conv2DTranspose(1, (3, 3), strides=(2,2), padding='same', activation='tanh')\n",
    "        \n",
    "    def call(self, latent):\n",
    "        x = self.dense_1(latent)\n",
    "        x = self.reshape(x)\n",
    "        x = self.conv_1(x)\n",
    "        x = BatchNormalization()(x)\n",
    "        x = LeakyReLU()(x)\n",
    "        x = self.conv_2(x)\n",
    "        x = BatchNormalization()(x)\n",
    "        x = LeakyReLU()(x)\n",
    "        assert x.shape == (BATCH_SIZE, 14, 14, 256)\n",
    "        x = BatchNormalization()(x)\n",
    "        x = self.conv_3(x)\n",
    "        assert x.shape == (BATCH_SIZE, 28, 28, 1)\n",
    "        return x\n",
    "generator = Generator()"
   ]
  },
  {
   "cell_type": "code",
   "execution_count": 90,
   "metadata": {},
   "outputs": [],
   "source": [
    "generator_optimizer = tf.keras.optimizers.Adam(1e-4)"
   ]
  },
  {
   "cell_type": "code",
   "execution_count": 91,
   "metadata": {},
   "outputs": [
    {
     "data": {
      "text/plain": [
       "<matplotlib.image.AxesImage at 0xb2d1c0c18>"
      ]
     },
     "execution_count": 91,
     "metadata": {},
     "output_type": "execute_result"
    },
    {
     "data": {
      "image/png": "[encoded data removed]",
      "text/plain": [
       "<Figure size 432x288 with 1 Axes>"
      ]
     },
     "metadata": {
      "needs_background": "light"
     },
     "output_type": "display_data"
    }
   ],
   "source": [
    "latent = tf.random.normal([BATCH_SIZE, 100])\n",
    "generated_img = generator(latent)\n",
    "plt.imshow(generated_img[0,:,:,0], cmap='gray')"
   ]
  },
  {
   "cell_type": "code",
   "execution_count": 92,
   "metadata": {},
   "outputs": [
    {
     "name": "stdout",
     "output_type": "stream",
     "text": [
      "tf.Tensor(\n",
      "[[ 8.1035710e-04]\n",
      " [ 3.1881640e-04]\n",
      " [ 1.6445359e-03]\n",
      " [ 2.1021604e-04]\n",
      " [-6.0969149e-05]\n",
      " [ 7.4563723e-04]\n",
      " [ 4.6906283e-04]\n",
      " [ 1.4775991e-03]\n",
      " [ 1.2410610e-03]\n",
      " [ 1.4471679e-03]\n",
      " [ 2.3385268e-03]\n",
      " [ 7.9606759e-04]\n",
      " [ 7.9161604e-04]\n",
      " [ 6.2045990e-05]\n",
      " [ 1.0952681e-03]\n",
      " [ 7.1119552e-04]\n",
      " [-1.4559081e-04]\n",
      " [ 7.8976667e-04]\n",
      " [ 3.5076076e-04]\n",
      " [ 9.8982616e-04]\n",
      " [ 4.4881273e-04]\n",
      " [ 4.8382342e-04]\n",
      " [ 1.5134676e-03]\n",
      " [ 1.8941304e-03]\n",
      " [ 1.4227851e-03]\n",
      " [ 1.7405942e-04]\n",
      " [ 2.6376343e-03]\n",
      " [ 1.2400879e-03]\n",
      " [ 5.3448405e-04]\n",
      " [ 4.8515241e-04]\n",
      " [ 9.8458910e-04]\n",
      " [ 1.2651959e-03]], shape=(32, 1), dtype=float32)\n"
     ]
    }
   ],
   "source": [
    "decision = discriminator(generated_img)\n",
    "print (decision)"
   ]
  },
  {
   "cell_type": "code",
   "execution_count": 93,
   "metadata": {},
   "outputs": [],
   "source": [
    "def generator_loss(fake_output):\n",
    "    loss = cross_entropy(tf.ones_like(fake_output), fake_output)\n",
    "    return loss"
   ]
  },
  {
   "cell_type": "code",
   "execution_count": 94,
   "metadata": {},
   "outputs": [],
   "source": [
    "def discriminator_loss(real_output, fake_output):\n",
    "    real_loss = cross_entropy(tf.ones_like(real_output), real_output)\n",
    "    fake_loss = cross_entropy(tf.zeros_like(fake_output), fake_output)\n",
    "    total_loss = real_loss + fake_loss\n",
    "    return total_loss"
   ]
  },
  {
   "cell_type": "code",
   "execution_count": null,
   "metadata": {},
   "outputs": [],
   "source": [
    "get_gen_acc = tf.keras.metrics.BinaryAccuracy(name=\"gen_acc\")\n",
    "get_disc_acc = tf.keras.metrics.BinaryAccuracy(name=\"disc_acc\")\n",
    "\n",
    "def train_step(images):\n",
    "    noise = tf.random.normal([BATCH_SIZE, 100])\n",
    "    with tf.GradientTape() as gen_tape, tf.GradientTape() as disc_tape:\n",
    "        generated_imgs = generator(noise)\n",
    "        fake_outputs = discriminator(generated_imgs)\n",
    "        real_outputs = discriminator(images)\n",
    "        gen_loss = generator_loss(generated_imgs)\n",
    "        disc_loss = discriminator_loss(real_outputs, fake_outputs)\n",
    "\n",
    "    gradients_of_generator = gen_tape.gradient(gen_loss, generator.trainable_variables)\n",
    "    gradients_of_discriminator = disc_tape.gradient(disc_loss, discriminator.trainable_variables)\n",
    "\n",
    "    generator_optimizer.apply_gradients(zip(gradients_of_generator, generator.trainable_variables))\n",
    "    discriminator_optimizer.apply_gradients(zip(gradients_of_discriminator, discriminator.trainable_variables))\n",
    "    \n",
    "    gen_acc = get_gen_acc(tf.ones_like(fake_outputs), fake_outputs)\n",
    "    disc_acc = (get_disc_acc(tf.zeros_like(fake_outputs), fake_outputs) + get_disc_acc(tf.ones_like(real_outputs), real_outputs)) / 2\n",
    "    print(f\"g_loss == {gen_loss:4.2f} / g_accuracy == {gen_acc:4.2f} / d_loss == {disc_loss:4.2f} / d_accuracy == {disc_acc:4.2f}\")"
   ]
  },
  {
   "cell_type": "code",
   "execution_count": null,
   "metadata": {},
   "outputs": [
    {
     "name": "stderr",
     "output_type": "stream",
     "text": [
      "W1007 17:39:09.977029 4545033664 base_layer.py:1814] Layer discriminator_5 is casting an input tensor from dtype float64 to the layer's dtype of float32, which is new behavior in TensorFlow 2.  The layer has dtype float32 because it's dtype defaults to floatx.\n",
      "\n",
      "If you intended to run this layer in float32, you can safely ignore this warning. If in doubt, this warning is likely only an issue if you are porting a TensorFlow 1.X model to TensorFlow 2.\n",
      "\n",
      "To change all layers to have dtype float64 by default, call `tf.keras.backend.set_floatx('float64')`. To change just this layer, pass dtype='float64' to the layer constructor. If you are the author of this layer, you can disable autocasting by passing autocast=False to the base Layer constructor.\n",
      "\n"
     ]
    },
    {
     "name": "stdout",
     "output_type": "stream",
     "text": [
      "g_loss == 0.69 / g_accuracy == 0.00 / d_loss == 1.36 / d_accuracy == 0.75\n",
      "g_loss == 0.69 / g_accuracy == 0.00 / d_loss == 0.74 / d_accuracy == 0.71\n",
      "g_loss == 0.69 / g_accuracy == 0.00 / d_loss == 0.75 / d_accuracy == 0.82\n",
      "g_loss == 0.69 / g_accuracy == 0.00 / d_loss == 0.74 / d_accuracy == 0.87\n",
      "g_loss == 0.68 / g_accuracy == 0.00 / d_loss == 0.71 / d_accuracy == 0.89\n",
      "g_loss == 0.68 / g_accuracy == 0.00 / d_loss == 0.67 / d_accuracy == 0.91\n",
      "g_loss == 0.68 / g_accuracy == 0.00 / d_loss == 0.61 / d_accuracy == 0.93\n",
      "g_loss == 0.67 / g_accuracy == 0.00 / d_loss == 0.50 / d_accuracy == 0.94\n",
      "g_loss == 0.67 / g_accuracy == 0.00 / d_loss == 0.36 / d_accuracy == 0.94\n",
      "g_loss == 0.66 / g_accuracy == 0.00 / d_loss == 0.22 / d_accuracy == 0.95\n",
      "g_loss == 0.66 / g_accuracy == 0.00 / d_loss == 0.12 / d_accuracy == 0.95\n",
      "g_loss == 0.66 / g_accuracy == 0.00 / d_loss == 0.05 / d_accuracy == 0.96\n",
      "g_loss == 0.65 / g_accuracy == 0.00 / d_loss == 0.02 / d_accuracy == 0.96\n",
      "g_loss == 0.65 / g_accuracy == 0.00 / d_loss == 0.01 / d_accuracy == 0.96\n",
      "g_loss == 0.64 / g_accuracy == 0.00 / d_loss == 0.00 / d_accuracy == 0.97\n",
      "g_loss == 0.64 / g_accuracy == 0.00 / d_loss == 0.00 / d_accuracy == 0.97\n",
      "g_loss == 0.63 / g_accuracy == 0.00 / d_loss == 0.00 / d_accuracy == 0.97\n",
      "g_loss == 0.63 / g_accuracy == 0.00 / d_loss == 0.00 / d_accuracy == 0.97\n",
      "g_loss == 0.62 / g_accuracy == 0.00 / d_loss == 0.00 / d_accuracy == 0.97\n",
      "g_loss == 0.62 / g_accuracy == 0.00 / d_loss == 0.00 / d_accuracy == 0.97\n",
      "g_loss == 0.61 / g_accuracy == 0.00 / d_loss == 0.00 / d_accuracy == 0.98\n",
      "g_loss == 0.61 / g_accuracy == 0.00 / d_loss == 0.00 / d_accuracy == 0.98\n",
      "g_loss == 0.58 / g_accuracy == 0.00 / d_loss == 0.00 / d_accuracy == 0.98\n",
      "g_loss == 0.59 / g_accuracy == 0.00 / d_loss == 0.00 / d_accuracy == 0.98\n",
      "g_loss == 0.58 / g_accuracy == 0.00 / d_loss == 0.00 / d_accuracy == 0.98\n",
      "g_loss == 0.57 / g_accuracy == 0.00 / d_loss == 0.00 / d_accuracy == 0.98\n",
      "g_loss == 0.57 / g_accuracy == 0.00 / d_loss == 0.00 / d_accuracy == 0.98\n",
      "g_loss == 0.55 / g_accuracy == 0.00 / d_loss == 0.01 / d_accuracy == 0.98\n",
      "g_loss == 0.55 / g_accuracy == 0.00 / d_loss == 0.00 / d_accuracy == 0.98\n",
      "g_loss == 0.53 / g_accuracy == 0.00 / d_loss == 0.00 / d_accuracy == 0.98\n",
      "g_loss == 0.54 / g_accuracy == 0.00 / d_loss == 0.07 / d_accuracy == 0.98\n",
      "g_loss == 0.53 / g_accuracy == 0.00 / d_loss == 0.19 / d_accuracy == 0.98\n",
      "g_loss == 0.52 / g_accuracy == 0.00 / d_loss == 0.04 / d_accuracy == 0.98\n",
      "g_loss == 0.50 / g_accuracy == 0.00 / d_loss == 0.00 / d_accuracy == 0.98\n",
      "g_loss == 0.50 / g_accuracy == 0.00 / d_loss == 0.00 / d_accuracy == 0.98\n",
      "g_loss == 0.47 / g_accuracy == 0.00 / d_loss == 0.05 / d_accuracy == 0.98\n",
      "g_loss == 0.50 / g_accuracy == 0.00 / d_loss == 0.48 / d_accuracy == 0.98\n",
      "g_loss == 0.50 / g_accuracy == 0.01 / d_loss == 0.81 / d_accuracy == 0.98\n",
      "g_loss == 0.46 / g_accuracy == 0.01 / d_loss == 0.00 / d_accuracy == 0.98\n",
      "g_loss == 0.46 / g_accuracy == 0.01 / d_loss == 0.03 / d_accuracy == 0.98\n",
      "g_loss == 0.46 / g_accuracy == 0.01 / d_loss == 0.30 / d_accuracy == 0.98\n",
      "g_loss == 0.42 / g_accuracy == 0.01 / d_loss == 0.00 / d_accuracy == 0.98\n",
      "g_loss == 0.42 / g_accuracy == 0.01 / d_loss == 0.00 / d_accuracy == 0.99\n",
      "g_loss == 0.43 / g_accuracy == 0.01 / d_loss == 0.00 / d_accuracy == 0.99\n",
      "g_loss == 0.40 / g_accuracy == 0.01 / d_loss == 0.00 / d_accuracy == 0.99\n",
      "g_loss == 0.38 / g_accuracy == 0.01 / d_loss == 0.01 / d_accuracy == 0.99\n",
      "g_loss == 0.40 / g_accuracy == 0.01 / d_loss == 0.00 / d_accuracy == 0.99\n",
      "g_loss == 0.39 / g_accuracy == 0.01 / d_loss == 0.00 / d_accuracy == 0.99\n",
      "g_loss == 0.38 / g_accuracy == 0.01 / d_loss == 0.00 / d_accuracy == 0.99\n",
      "g_loss == 0.38 / g_accuracy == 0.01 / d_loss == 0.00 / d_accuracy == 0.99\n",
      "g_loss == 0.36 / g_accuracy == 0.01 / d_loss == 0.00 / d_accuracy == 0.99\n",
      "g_loss == 0.37 / g_accuracy == 0.01 / d_loss == 0.00 / d_accuracy == 0.99\n",
      "g_loss == 0.36 / g_accuracy == 0.01 / d_loss == 0.00 / d_accuracy == 0.99\n",
      "g_loss == 0.37 / g_accuracy == 0.01 / d_loss == 0.17 / d_accuracy == 0.99\n",
      "g_loss == 0.35 / g_accuracy == 0.01 / d_loss == 0.00 / d_accuracy == 0.99\n",
      "g_loss == 0.35 / g_accuracy == 0.01 / d_loss == 0.00 / d_accuracy == 0.99\n",
      "g_loss == 0.35 / g_accuracy == 0.01 / d_loss == 0.00 / d_accuracy == 0.99\n",
      "g_loss == 0.34 / g_accuracy == 0.01 / d_loss == 0.00 / d_accuracy == 0.99\n",
      "g_loss == 0.34 / g_accuracy == 0.01 / d_loss == 0.00 / d_accuracy == 0.99\n",
      "g_loss == 0.34 / g_accuracy == 0.01 / d_loss == 0.00 / d_accuracy == 0.99\n",
      "g_loss == 0.34 / g_accuracy == 0.01 / d_loss == 0.00 / d_accuracy == 0.99\n",
      "g_loss == 0.33 / g_accuracy == 0.01 / d_loss == 0.00 / d_accuracy == 0.99\n",
      "g_loss == 0.33 / g_accuracy == 0.00 / d_loss == 0.00 / d_accuracy == 0.99\n",
      "g_loss == 0.33 / g_accuracy == 0.00 / d_loss == 0.00 / d_accuracy == 0.99\n",
      "g_loss == 0.33 / g_accuracy == 0.00 / d_loss == 0.00 / d_accuracy == 0.99\n",
      "g_loss == 0.32 / g_accuracy == 0.00 / d_loss == 0.00 / d_accuracy == 0.99\n",
      "g_loss == 0.33 / g_accuracy == 0.00 / d_loss == 0.00 / d_accuracy == 0.99\n",
      "g_loss == 0.32 / g_accuracy == 0.00 / d_loss == 0.00 / d_accuracy == 0.99\n",
      "g_loss == 0.32 / g_accuracy == 0.00 / d_loss == 0.00 / d_accuracy == 0.99\n",
      "g_loss == 0.32 / g_accuracy == 0.00 / d_loss == 0.00 / d_accuracy == 0.99\n",
      "g_loss == 0.32 / g_accuracy == 0.00 / d_loss == 0.00 / d_accuracy == 0.99\n",
      "g_loss == 0.32 / g_accuracy == 0.00 / d_loss == 0.00 / d_accuracy == 0.99\n",
      "g_loss == 0.32 / g_accuracy == 0.00 / d_loss == 0.00 / d_accuracy == 0.99\n",
      "g_loss == 0.32 / g_accuracy == 0.00 / d_loss == 0.00 / d_accuracy == 0.99\n",
      "g_loss == 0.32 / g_accuracy == 0.00 / d_loss == 0.00 / d_accuracy == 0.99\n",
      "g_loss == 0.32 / g_accuracy == 0.00 / d_loss == 0.00 / d_accuracy == 0.99\n",
      "g_loss == 0.32 / g_accuracy == 0.00 / d_loss == 0.00 / d_accuracy == 0.99\n",
      "g_loss == 0.32 / g_accuracy == 0.00 / d_loss == 0.00 / d_accuracy == 0.99\n",
      "g_loss == 0.32 / g_accuracy == 0.00 / d_loss == 0.00 / d_accuracy == 0.99\n",
      "g_loss == 0.32 / g_accuracy == 0.00 / d_loss == 0.00 / d_accuracy == 0.99\n",
      "g_loss == 0.32 / g_accuracy == 0.00 / d_loss == 0.00 / d_accuracy == 0.99\n",
      "g_loss == 0.32 / g_accuracy == 0.00 / d_loss == 0.00 / d_accuracy == 0.99\n",
      "g_loss == 0.32 / g_accuracy == 0.00 / d_loss == 0.00 / d_accuracy == 0.99\n",
      "g_loss == 0.32 / g_accuracy == 0.00 / d_loss == 0.00 / d_accuracy == 0.99\n",
      "g_loss == 0.32 / g_accuracy == 0.00 / d_loss == 0.00 / d_accuracy == 0.99\n",
      "g_loss == 0.32 / g_accuracy == 0.00 / d_loss == 0.00 / d_accuracy == 0.99\n",
      "g_loss == 0.32 / g_accuracy == 0.00 / d_loss == 0.00 / d_accuracy == 0.99\n",
      "g_loss == 0.32 / g_accuracy == 0.00 / d_loss == 0.00 / d_accuracy == 0.99\n",
      "g_loss == 0.32 / g_accuracy == 0.00 / d_loss == 0.00 / d_accuracy == 0.99\n",
      "g_loss == 0.32 / g_accuracy == 0.00 / d_loss == 0.00 / d_accuracy == 0.99\n",
      "g_loss == 0.32 / g_accuracy == 0.00 / d_loss == 0.00 / d_accuracy == 0.99\n",
      "g_loss == 0.32 / g_accuracy == 0.00 / d_loss == 0.00 / d_accuracy == 0.99\n",
      "g_loss == 0.31 / g_accuracy == 0.00 / d_loss == 0.00 / d_accuracy == 0.99\n",
      "g_loss == 0.31 / g_accuracy == 0.00 / d_loss == 0.00 / d_accuracy == 0.99\n",
      "g_loss == 0.32 / g_accuracy == 0.00 / d_loss == 0.00 / d_accuracy == 0.99\n",
      "g_loss == 0.32 / g_accuracy == 0.00 / d_loss == 0.00 / d_accuracy == 0.99\n",
      "g_loss == 0.32 / g_accuracy == 0.00 / d_loss == 0.00 / d_accuracy == 0.99\n",
      "g_loss == 0.31 / g_accuracy == 0.00 / d_loss == 0.00 / d_accuracy == 0.99\n",
      "g_loss == 0.31 / g_accuracy == 0.00 / d_loss == 0.00 / d_accuracy == 0.99\n",
      "g_loss == 0.32 / g_accuracy == 0.00 / d_loss == 0.00 / d_accuracy == 0.99\n",
      "g_loss == 0.31 / g_accuracy == 0.00 / d_loss == 0.00 / d_accuracy == 0.99\n",
      "g_loss == 0.31 / g_accuracy == 0.00 / d_loss == 0.00 / d_accuracy == 0.99\n",
      "g_loss == 0.32 / g_accuracy == 0.00 / d_loss == 0.00 / d_accuracy == 0.99\n",
      "g_loss == 0.31 / g_accuracy == 0.00 / d_loss == 0.00 / d_accuracy == 0.99\n",
      "g_loss == 0.31 / g_accuracy == 0.00 / d_loss == 0.00 / d_accuracy == 0.99\n",
      "g_loss == 0.31 / g_accuracy == 0.00 / d_loss == 0.00 / d_accuracy == 0.99\n",
      "g_loss == 0.32 / g_accuracy == 0.00 / d_loss == 0.00 / d_accuracy == 0.99\n",
      "g_loss == 0.31 / g_accuracy == 0.00 / d_loss == 0.00 / d_accuracy == 0.99\n",
      "g_loss == 0.31 / g_accuracy == 0.00 / d_loss == 0.00 / d_accuracy == 0.99\n",
      "g_loss == 0.31 / g_accuracy == 0.00 / d_loss == 0.00 / d_accuracy == 0.99\n",
      "g_loss == 0.31 / g_accuracy == 0.00 / d_loss == 0.00 / d_accuracy == 0.99\n"
     ]
    },
    {
     "name": "stdout",
     "output_type": "stream",
     "text": [
      "g_loss == 0.31 / g_accuracy == 0.00 / d_loss == 0.00 / d_accuracy == 0.99\n",
      "g_loss == 0.31 / g_accuracy == 0.00 / d_loss == 0.00 / d_accuracy == 0.99\n",
      "g_loss == 0.31 / g_accuracy == 0.00 / d_loss == 0.00 / d_accuracy == 0.99\n",
      "g_loss == 0.31 / g_accuracy == 0.00 / d_loss == 0.00 / d_accuracy == 0.99\n",
      "g_loss == 0.32 / g_accuracy == 0.00 / d_loss == 0.00 / d_accuracy == 0.99\n",
      "g_loss == 0.31 / g_accuracy == 0.00 / d_loss == 0.00 / d_accuracy == 0.99\n",
      "g_loss == 0.31 / g_accuracy == 0.00 / d_loss == 0.00 / d_accuracy == 0.99\n",
      "g_loss == 0.31 / g_accuracy == 0.00 / d_loss == 0.00 / d_accuracy == 0.99\n",
      "g_loss == 0.31 / g_accuracy == 0.00 / d_loss == 0.00 / d_accuracy == 0.99\n",
      "g_loss == 0.31 / g_accuracy == 0.00 / d_loss == 0.00 / d_accuracy == 0.99\n",
      "g_loss == 0.31 / g_accuracy == 0.00 / d_loss == 0.00 / d_accuracy == 0.99\n",
      "g_loss == 0.31 / g_accuracy == 0.00 / d_loss == 0.00 / d_accuracy == 0.99\n",
      "g_loss == 0.31 / g_accuracy == 0.00 / d_loss == 0.00 / d_accuracy == 0.99\n",
      "g_loss == 0.31 / g_accuracy == 0.00 / d_loss == 0.00 / d_accuracy == 0.99\n",
      "g_loss == 0.31 / g_accuracy == 0.00 / d_loss == 0.00 / d_accuracy == 0.99\n"
     ]
    }
   ],
   "source": [
    "for epoch in range(5):\n",
    "    for train_imgs in train_dataset:\n",
    "        train_step(train_imgs)"
   ]
  },
  {
   "cell_type": "code",
   "execution_count": null,
   "metadata": {},
   "outputs": [],
   "source": []
  },
  {
   "cell_type": "code",
   "execution_count": null,
   "metadata": {},
   "outputs": [],
   "source": []
  }
 ],
 "metadata": {
  "kernelspec": {
   "display_name": "Python 3",
   "language": "python",
   "name": "python3"
  },
  "language_info": {
   "codemirror_mode": {
    "name": "ipython",
    "version": 3
   },
   "file_extension": ".py",
   "mimetype": "text/x-python",
   "name": "python",
   "nbconvert_exporter": "python",
   "pygments_lexer": "ipython3",
   "version": "3.6.7"
  }
 },
 "nbformat": 4,
 "nbformat_minor": 2
}
